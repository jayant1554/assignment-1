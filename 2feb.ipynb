{
 "cells": [
  {
   "cell_type": "markdown",
   "id": "3ecac60d-25da-4225-a882-6a56b217d9b6",
   "metadata": {},
   "source": [
    "Q1. Explain with an example each when to use a for loop and a while loop."
   ]
  },
  {
   "cell_type": "code",
   "execution_count": 1,
   "id": "091ba5eb-291b-4a60-a15e-d88305a32e5d",
   "metadata": {},
   "outputs": [
    {
     "name": "stdout",
     "output_type": "stream",
     "text": [
      "0\n",
      "1\n",
      "2\n",
      "3\n",
      "4\n",
      "5\n",
      "6\n",
      "7\n",
      "8\n",
      "9\n"
     ]
    }
   ],
   "source": [
    "# we use for loop when we have to fun the loop for a fix number of time for ex\n",
    "for i in range (10):\n",
    "    print(i)\n",
    "#here we have a range in which the code will execute\n"
   ]
  },
  {
   "cell_type": "code",
   "execution_count": 2,
   "id": "0716fd69-05fa-484e-a074-effce151c35e",
   "metadata": {},
   "outputs": [
    {
     "name": "stdout",
     "output_type": "stream",
     "text": [
      "10\n",
      "11\n",
      "12\n",
      "13\n",
      "14\n",
      "15\n",
      "16\n",
      "17\n",
      "18\n",
      "19\n"
     ]
    }
   ],
   "source": [
    "#we use while loop when we don't know how many time we have to run the code it will execute\n",
    "#untill the condition become false for ex\n",
    "n=10\n",
    "while n <20 :\n",
    "    print(n)\n",
    "    n=n+1\n",
    "#here we dont have any range from which it will execute inwhilw loop it will execute untill the condition become false\n"
   ]
  },
  {
   "cell_type": "markdown",
   "id": "feef1fe1-d085-44d5-ad1b-a4ff171e9336",
   "metadata": {},
   "source": [
    "Q2. Write a python program to print the sum and product of the first 10 natural numbers using for\n",
    "and while loop."
   ]
  },
  {
   "cell_type": "code",
   "execution_count": 3,
   "id": "97dbee06-4877-4484-a200-f11a9834acac",
   "metadata": {},
   "outputs": [
    {
     "name": "stdout",
     "output_type": "stream",
     "text": [
      "the sum of first 10 natural no is: 55\n",
      "the product of first 10 natural no is: 3628800\n"
     ]
    }
   ],
   "source": [
    "#using for loop\n",
    "n=0\n",
    "b=1\n",
    "for i in range(1,11):  \n",
    "    n+=i\n",
    "    b*=i\n",
    "print(\"the sum of first 10 natural no is:\",n)\n",
    "print(\"the product of first 10 natural no is:\",b)    \n",
    "    "
   ]
  },
  {
   "cell_type": "code",
   "execution_count": 4,
   "id": "e8884fb2-37ed-4e8c-9e61-c7011c746259",
   "metadata": {},
   "outputs": [
    {
     "name": "stdout",
     "output_type": "stream",
     "text": [
      "the sum of first 10 natural no is : 55\n",
      "the product of first 10 natural no is : 3628800\n"
     ]
    }
   ],
   "source": [
    "#using while loop\n",
    "n=0\n",
    "b=1\n",
    "counter=1\n",
    "while counter <=10:\n",
    "    n+=counter\n",
    "    b*=counter\n",
    "    counter+=1\n",
    "print(\"the sum of first 10 natural no is :\",n)\n",
    "print(\"the product of first 10 natural no is :\",b)"
   ]
  },
  {
   "cell_type": "markdown",
   "id": "40f1a752-39ce-4d83-bf81-02bb955eebc4",
   "metadata": {},
   "source": [
    "Q3. Create a python program to compute the electricity bill for a household.\n",
    "The per-unit charges in rupees are as follows: For the first 100 units, the user will be charged Rs. 4.5 per\n",
    "unit, for the next 100 units, the user will be charged Rs. 6 per unit, and for the next 100 units, the user will\n",
    "be charged Rs. 10 per unit, After 300 units and above the user will be charged Rs. 20 per unit.\n",
    "You are required to take the units of electricity consumed in a month from the user as input.\n",
    "Your program must pass this test case: when the unit of electricity consumed by the user in a month is\n",
    "310, the total electricity bill should be 2250."
   ]
  },
  {
   "cell_type": "code",
   "execution_count": 5,
   "id": "e7f5bad3-08d2-4a7e-ba49-4f8230070bbb",
   "metadata": {},
   "outputs": [
    {
     "name": "stdin",
     "output_type": "stream",
     "text": [
      "unit consumed in a month 310\n"
     ]
    },
    {
     "name": "stdout",
     "output_type": "stream",
     "text": [
      "total  bill for  310 is 2250.0\n"
     ]
    }
   ],
   "source": [
    "unit=int(input(\"unit consumed in a month\"))\n",
    "total_bill=0\n",
    "remaining_unit=unit\n",
    "if remaining_unit>=100:\n",
    "    total_bill+=100*4.5\n",
    "    remaining_unit-=100\n",
    "else:\n",
    "    total_bill+=remaining_unit*4.5\n",
    "    remaining_unit=0\n",
    "if remaining_unit>=100:\n",
    "    total_bill+=100*6\n",
    "    remaining_unit-=100\n",
    "else:\n",
    "    total_bill+=remaining_unit*6\n",
    "    remaining_unit=0\n",
    "if remaining_unit>=100:\n",
    "    total_bill+=100*10\n",
    "    remaining_unit-=100\n",
    "else:\n",
    "    total_bill+=remaining_unit*10\n",
    "    remaining_unit=0\n",
    "if remaining_unit > 0:\n",
    "    total_bill += remaining_unit * 20\n",
    "print(\"total  bill for \",unit,\"is\",total_bill)"
   ]
  },
  {
   "cell_type": "markdown",
   "id": "69c10f1a-5d2a-4d8a-b89b-3f3cd1901937",
   "metadata": {},
   "source": [
    "Q4. Create a list of numbers from 1 to 100. Use for loop and while loop to calculate the cube of each\n",
    "number and if the cube of that number is divisible by 4 or 5 then append that number in a list and print\n",
    "that list."
   ]
  },
  {
   "cell_type": "code",
   "execution_count": 10,
   "id": "0fed2d96-c0dd-4d59-8ae1-823ddcea1d92",
   "metadata": {},
   "outputs": [
    {
     "name": "stdout",
     "output_type": "stream",
     "text": [
      "Numbers whose cubes are divisible by 4 or 5 (using while loop): [2, 4, 5, 6, 8, 10, 12, 14, 15, 16, 18, 20, 22, 24, 25, 26, 28, 30, 32, 34, 35, 36, 38, 40, 42, 44, 45, 46, 48, 50, 52, 54, 55, 56, 58, 60, 62, 64, 65, 66, 68, 70, 72, 74, 75, 76, 78, 80, 82, 84, 85, 86, 88, 90, 92, 94, 95, 96, 98, 100]\n"
     ]
    }
   ],
   "source": [
    "l1=[]\n",
    "for num in range(1,101):\n",
    "    cube=num**3\n",
    "    if cube%4==0 or cube%5==0:\n",
    "        l1.append(num)\n",
    "print(\"Numbers whose cubes are divisible by 4 or 5 (using while loop):\", l1)\n"
   ]
  },
  {
   "cell_type": "code",
   "execution_count": 8,
   "id": "a103c181-7810-49e6-8187-72ebfd3983f4",
   "metadata": {},
   "outputs": [
    {
     "name": "stdout",
     "output_type": "stream",
     "text": [
      "Numbers whose cubes are divisible by 4 or 5 (using while loop): [2, 4, 5, 6, 8, 10, 12, 14, 15, 16, 18, 20, 22, 24, 25, 26, 28, 30, 32, 34, 35, 36, 38, 40, 42, 44, 45, 46, 48, 50, 52, 54, 55, 56, 58, 60, 62, 64, 65, 66, 68, 70, 72, 74, 75, 76, 78, 80, 82, 84, 85, 86, 88, 90, 92, 94, 95, 96, 98, 100]\n"
     ]
    }
   ],
   "source": [
    "l1= []\n",
    "num = 1\n",
    "\n",
    "\n",
    "while num <= 100:\n",
    "    cube = num ** 3  \n",
    "    if cube % 4 == 0 or cube % 5 == 0:\n",
    "        l1.append(num)\n",
    "    num += 1\n",
    "\n",
    "print(\"Numbers whose cubes are divisible by 4 or 5 (using while loop):\", l1)\n"
   ]
  },
  {
   "cell_type": "markdown",
   "id": "bd735323-e001-4b01-9ed6-c3a3af6ca5dd",
   "metadata": {},
   "source": [
    "Q5. Write a program to filter count vowels in the below-given string.\n",
    "string = \"I want to become a data scientist\""
   ]
  },
  {
   "cell_type": "code",
   "execution_count": 19,
   "id": "908ed347-fc87-4555-854a-139610176762",
   "metadata": {},
   "outputs": [
    {
     "name": "stdout",
     "output_type": "stream",
     "text": [
      "12\n"
     ]
    }
   ],
   "source": [
    "string = \"I want to become a data scientist\"\n",
    "vowels= \"aeiouAEIOU\"\n",
    "count= 0\n",
    "\n",
    "for char in string :\n",
    "    if char in vowels:\n",
    "        count+=1\n",
    "print(count)"
   ]
  },
  {
   "cell_type": "code",
   "execution_count": null,
   "id": "f87cd3a9-0935-48e4-9a6d-f689a910a7d0",
   "metadata": {},
   "outputs": [],
   "source": []
  }
 ],
 "metadata": {
  "kernelspec": {
   "display_name": "Python 3 (ipykernel)",
   "language": "python",
   "name": "python3"
  },
  "language_info": {
   "codemirror_mode": {
    "name": "ipython",
    "version": 3
   },
   "file_extension": ".py",
   "mimetype": "text/x-python",
   "name": "python",
   "nbconvert_exporter": "python",
   "pygments_lexer": "ipython3",
   "version": "3.10.8"
  }
 },
 "nbformat": 4,
 "nbformat_minor": 5
}
